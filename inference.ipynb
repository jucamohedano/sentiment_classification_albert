{
 "cells": [
  {
   "cell_type": "code",
   "execution_count": 1,
   "metadata": {},
   "outputs": [
    {
     "name": "stderr",
     "output_type": "stream",
     "text": [
      "2022-10-11 14:12:50.442807: I tensorflow/core/util/util.cc:169] oneDNN custom operations are on. You may see slightly different numerical results due to floating-point round-off errors from different computation orders. To turn them off, set the environment variable `TF_ENABLE_ONEDNN_OPTS=0`.\n"
     ]
    }
   ],
   "source": [
    "import tensorflow as tf\n",
    "import tensorflow_hub as hub\n",
    "import tensorflow_text as text\n",
    "import os"
   ]
  },
  {
   "cell_type": "code",
   "execution_count": 3,
   "metadata": {},
   "outputs": [
    {
     "name": "stdout",
     "output_type": "stream",
     "text": [
      "/home/juancm/ml-ops/sentiment_classification_albert/sentiment_model_v1.h5\n",
      "/home/juancm/miniconda3/envs/mlops-dev/lib\n"
     ]
    }
   ],
   "source": [
    "model_path = os.getcwd() + '/sentiment_model_v1.h5'\n",
    "print(model_path)\n",
    "print(os.getenv('LD_LIBRARY_PATH'))"
   ]
  },
  {
   "cell_type": "markdown",
   "metadata": {},
   "source": [
    "# Build model and load weights"
   ]
  },
  {
   "cell_type": "code",
   "execution_count": 55,
   "metadata": {},
   "outputs": [],
   "source": [
    "URL_PREPROCESSOR = \"http://tfhub.dev/tensorflow/albert_en_preprocess/3\"\n",
    "preprocessor = hub.KerasLayer(URL_PREPROCESSOR, name='preprocessing')\n",
    "URL = \"https://tfhub.dev/tensorflow/albert_en_base/3\"\n",
    "\n",
    "def build_classifier_model():\n",
    "    text_input = tf.keras.layers.Input(shape=(), dtype=tf.string, name='text')\n",
    "    encoder_inputs = preprocessor(text_input)\n",
    "    encoder = hub.KerasLayer(URL, trainable=False, name='ALBERT_encoder')\n",
    "    outputs = encoder(encoder_inputs)\n",
    "    net = outputs['pooled_output']\n",
    "    dropout_layer = tf.keras.layers.Dropout(0.1, name='dropout')\n",
    "    # net = dropout_layer(net)\n",
    "    net = tf.keras.layers.Dense(1, activation=tf.sigmoid, name='classifier')(net) # Add Sigmoid as the activation function to get binary result\n",
    "    return tf.keras.Model(inputs=text_input, outputs=net, name='albert_model')\n",
    "\n",
    "model = build_classifier_model()"
   ]
  },
  {
   "cell_type": "code",
   "execution_count": 56,
   "metadata": {},
   "outputs": [
    {
     "name": "stdout",
     "output_type": "stream",
     "text": [
      "1/1 [==============================] - 0s 436ms/step\n",
      "[[0.47539645]]\n",
      "1/1 [==============================] - 0s 79ms/step\n",
      "[[0.74396527]]\n",
      "1/1 [==============================] - 0s 78ms/step\n",
      "[[0.22135879]]\n",
      "1/1 [==============================] - 0s 77ms/step\n",
      "[[0.45387965]]\n"
     ]
    }
   ],
   "source": [
    "# Evaluate the model with some random inputs\n",
    "\n",
    "model.load_weights(model_path)\n",
    "\n",
    "bce = tf.keras.losses.BinaryCrossentropy(from_logits=True)\n",
    "print(model.predict(tf.constant(['bad'])))\n",
    "print(model.predict(tf.constant(['this is nice!'])))\n",
    "print(model.predict(tf.constant(['I do not feel good'])))\n",
    "print(model.predict(tf.constant(['this is a terrible movie'])))"
   ]
  },
  {
   "cell_type": "code",
   "execution_count": 57,
   "metadata": {},
   "outputs": [
    {
     "name": "stdout",
     "output_type": "stream",
     "text": [
      "WARNING:tensorflow:Compiled the loaded model, but the compiled metrics have yet to be built. `model.compile_metrics` will be empty until you train or evaluate the model.\n"
     ]
    },
    {
     "name": "stderr",
     "output_type": "stream",
     "text": [
      "WARNING:tensorflow:Compiled the loaded model, but the compiled metrics have yet to be built. `model.compile_metrics` will be empty until you train or evaluate the model.\n"
     ]
    }
   ],
   "source": [
    "model.save(\"sentiment_model.h5\", include_optimizer=False)"
   ]
  },
  {
   "cell_type": "code",
   "execution_count": 61,
   "metadata": {},
   "outputs": [
    {
     "name": "stdout",
     "output_type": "stream",
     "text": [
      "WARNING:tensorflow:No training configuration found in the save file, so the model was *not* compiled. Compile it manually.\n"
     ]
    },
    {
     "name": "stderr",
     "output_type": "stream",
     "text": [
      "WARNING:tensorflow:No training configuration found in the save file, so the model was *not* compiled. Compile it manually.\n"
     ]
    }
   ],
   "source": [
    "model = tf.keras.models.load_model(\"sentiment_model.h5\",\n",
    "                                    custom_objects={'KerasLayer':hub.KerasLayer})\n"
   ]
  },
  {
   "cell_type": "code",
   "execution_count": 63,
   "metadata": {},
   "outputs": [
    {
     "name": "stderr",
     "output_type": "stream",
     "text": [
      "WARNING:absl:Found untraced functions such as restored_function_body, restored_function_body, restored_function_body, restored_function_body, restored_function_body while saving (showing 5 of 36). These functions will not be directly callable after loading.\n"
     ]
    },
    {
     "name": "stdout",
     "output_type": "stream",
     "text": [
      "INFO:tensorflow:Assets written to: ./saved_models/1/assets\n"
     ]
    },
    {
     "name": "stderr",
     "output_type": "stream",
     "text": [
      "INFO:tensorflow:Assets written to: ./saved_models/1/assets\n"
     ]
    }
   ],
   "source": [
    "# Convert h5 model to SavedModel so that it can be served\n",
    "\n",
    "export_path = './saved_models/1/'\n",
    "tf.saved_model.save(model, export_path)"
   ]
  },
  {
   "cell_type": "code",
   "execution_count": 62,
   "metadata": {},
   "outputs": [
    {
     "name": "stdout",
     "output_type": "stream",
     "text": [
      "1/1 [==============================] - 0s 474ms/step\n",
      "[[0.45387965]]\n"
     ]
    }
   ],
   "source": [
    "print(model.predict(tf.constant(['this is a terrible movie'])))"
   ]
  }
 ],
 "metadata": {
  "kernelspec": {
   "display_name": "Python 3.10.4 ('mlops-dev')",
   "language": "python",
   "name": "python3"
  },
  "language_info": {
   "codemirror_mode": {
    "name": "ipython",
    "version": 3
   },
   "file_extension": ".py",
   "mimetype": "text/x-python",
   "name": "python",
   "nbconvert_exporter": "python",
   "pygments_lexer": "ipython3",
   "version": "3.10.4"
  },
  "orig_nbformat": 4,
  "vscode": {
   "interpreter": {
    "hash": "491432b71267407106fe202c40c842fdd5910eb46324614520b83b7fa9472d1b"
   }
  }
 },
 "nbformat": 4,
 "nbformat_minor": 2
}
