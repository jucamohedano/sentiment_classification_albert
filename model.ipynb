{
 "cells": [
  {
   "cell_type": "code",
   "execution_count": 1,
   "metadata": {},
   "outputs": [],
   "source": [
    "# !conda install -n sentiment ipykernel --update-deps --force-reinstall\n",
    "# run above command if using python3.8"
   ]
  },
  {
   "cell_type": "code",
   "execution_count": null,
   "metadata": {},
   "outputs": [],
   "source": [
    "import tensorflow as tf\n",
    "import tensorflow_text as text  # Registers the ops.\n",
    "import keras\n",
    "import tensorflow_hub as hub\n",
    "import tensorflow_datasets as tfds\n",
    "from tensorflow_addons.optimizers import AdamW\n",
    "import matplotlib.pyplot as plt\n",
    "import numpy as np\n",
    "import os\n",
    "\n",
    "\n",
    "print(os.getenv('LD_LIBRARY_PATH'))\n",
    "print(tf.config.list_physical_devices('GPU'))"
   ]
  },
  {
   "cell_type": "code",
   "execution_count": 5,
   "metadata": {},
   "outputs": [],
   "source": [
    "import logging\n",
    "logger = tf.get_logger()\n",
    "logger.setLevel(logging.ERROR)"
   ]
  },
  {
   "cell_type": "markdown",
   "metadata": {},
   "source": [
    "## Load dataset from TensorFlow Hub"
   ]
  },
  {
   "cell_type": "code",
   "execution_count": 40,
   "metadata": {},
   "outputs": [],
   "source": [
    "(training_set, validation_set), dataset_info = tfds.load(\n",
    "    'sentiment140',\n",
    "    split=['train[:30%]', 'train[30%:32%]'],\n",
    "    with_info=True,\n",
    "    as_supervised=True,\n",
    ")"
   ]
  },
  {
   "cell_type": "code",
   "execution_count": 41,
   "metadata": {},
   "outputs": [
    {
     "name": "stdout",
     "output_type": "stream",
     "text": [
      "480000\n"
     ]
    }
   ],
   "source": [
    "num_training_examples = 0\n",
    "for example in training_set:\n",
    "  num_training_examples += 1\n",
    "\n",
    "print(num_training_examples)"
   ]
  },
  {
   "cell_type": "code",
   "execution_count": 42,
   "metadata": {},
   "outputs": [
    {
     "name": "stdout",
     "output_type": "stream",
     "text": [
      "32000\n"
     ]
    }
   ],
   "source": [
    "val_training_examples = 0\n",
    "for example in validation_set:\n",
    "    val_training_examples += 1\n",
    "\n",
    "print(val_training_examples)\n"
   ]
  },
  {
   "cell_type": "code",
   "execution_count": 43,
   "metadata": {},
   "outputs": [],
   "source": [
    "assert isinstance(training_set, tf.data.Dataset)\n",
    "assert isinstance(validation_set, tf.data.Dataset)"
   ]
  },
  {
   "cell_type": "code",
   "execution_count": 67,
   "metadata": {},
   "outputs": [],
   "source": [
    "# Convert tfds to a pandas dataframe to manipulate it\n",
    "\n",
    "df_train_set = tfds.as_dataframe(training_set, dataset_info)\n",
    "df_validation_set = tfds.as_dataframe(validation_set, dataset_info)"
   ]
  },
  {
   "cell_type": "code",
   "execution_count": 71,
   "metadata": {},
   "outputs": [
    {
     "data": {
      "text/plain": [
       "(array([], dtype=int64), array([], dtype=int64))"
      ]
     },
     "execution_count": 71,
     "metadata": {},
     "output_type": "execute_result"
    }
   ],
   "source": [
    "df_train_set.dropna()\n",
    "df_train_set = df_train_set.replace(4,1) # represent positives as a 1 instead of a 4\n",
    "\n",
    "df_validation_set.dropna()\n",
    "df_validation_set = df_validation_set.replace(4,1)\n",
    "\n",
    "# verify that there are no more 4s\n",
    "np.where(df_train_set.to_numpy() == 4)\n",
    "np.where(df_validation_set.to_numpy() == 4)"
   ]
  },
  {
   "cell_type": "code",
   "execution_count": 74,
   "metadata": {},
   "outputs": [
    {
     "name": "stdout",
     "output_type": "stream",
     "text": [
      "<class 'tensorflow.python.data.ops.dataset_ops.TensorSliceDataset'>\n",
      "(b\"i'm 10x cooler than all of you! \", 1)\n"
     ]
    }
   ],
   "source": [
    "# just checkout out some elements\n",
    "df_train_set.iat[3,0]\n",
    "type(df_train_set.iat[1,0])\n",
    "\n",
    "# get input and target outputs from dataframe to cast into tf dataset\n",
    "target = df_train_set['polarity']\n",
    "text = df_train_set['text']\n",
    "dt = tf.data.Dataset.from_tensor_slices((text, target))\n",
    "print(type(dt))\n",
    "print(dt.take(1).as_numpy_iterator().next())\n",
    "training_set = dt.prefetch(1)\n",
    "\n",
    "# validation here\n",
    "val_target = df_validation_set['polarity']\n",
    "val_text = df_validation_set['text']\n",
    "val_dt = tf.data.Dataset.from_tensor_slices((val_text, val_target))\n",
    "validation_set = val_dt.prefetch(1)"
   ]
  },
  {
   "cell_type": "code",
   "execution_count": 75,
   "metadata": {},
   "outputs": [
    {
     "name": "stdout",
     "output_type": "stream",
     "text": [
      "1 b\"i'm 10x cooler than all of you! \"\n",
      "0 b'O.kk? Thats weird I cant stop following people on twitter... I have tons of people to unfollow '\n",
      "1 b'what a beautiful day not to got to my first class '\n",
      "1 b\".@HildyGottlieb &amp; I was just saying to Maha'al yesterday, everything we ever needed to know was in Beatles' lyrics - you prove my point! \"\n",
      "0 b'kinda sad and confused  why do guys do this?'\n"
     ]
    }
   ],
   "source": [
    "for text, labels in training_set.take(5):  # only take first element of dataset\n",
    "    numpy_text = text.numpy()\n",
    "    numpy_labels = labels.numpy()\n",
    "    print(numpy_labels, numpy_text)"
   ]
  },
  {
   "cell_type": "markdown",
   "metadata": {},
   "source": [
    "### Training and validation sets after manipulation"
   ]
  },
  {
   "cell_type": "code",
   "execution_count": 76,
   "metadata": {},
   "outputs": [],
   "source": [
    "BATCH_SIZE = 32\n",
    "\n",
    "train_batches = training_set.shuffle(num_training_examples//4).batch(BATCH_SIZE).prefetch(1)\n",
    "train_val = validation_set.batch(BATCH_SIZE).prefetch(1)"
   ]
  },
  {
   "cell_type": "markdown",
   "metadata": {},
   "source": [
    "## Load preprocesor for the albert model and the model itself"
   ]
  },
  {
   "cell_type": "code",
   "execution_count": 9,
   "metadata": {},
   "outputs": [],
   "source": [
    "# TODO: Create a Feature Extractor\n",
    "# First do some preprocessing on the input raw data to tokenize and create embeddings with the sequences\n",
    "\n",
    "URL_PREPROCESSOR = \"http://tfhub.dev/tensorflow/albert_en_preprocess/3\"\n",
    "preprocessor = hub.KerasLayer(URL_PREPROCESSOR, name='preprocessing')"
   ]
  },
  {
   "cell_type": "code",
   "execution_count": 10,
   "metadata": {},
   "outputs": [
    {
     "name": "stdout",
     "output_type": "stream",
     "text": [
      "Keys       : ['input_mask', 'input_type_ids', 'input_word_ids']\n",
      "Shape      : (1, 128)\n",
      "Word Ids   : [   2   48   25  145   40 5289 1308  187    3    0    0    0]\n",
      "Input Mask : [1 1 1 1 1 1 1 1 1 0 0 0]\n",
      "Type Ids   : [0 0 0 0 0 0 0 0 0 0 0 0]\n"
     ]
    }
   ],
   "source": [
    "text_test = ['this is such an amazing movie!']\n",
    "text_preprocessed = preprocessor(text_test)\n",
    "\n",
    "print(f'Keys       : {list(text_preprocessed.keys())}')\n",
    "print(f'Shape      : {text_preprocessed[\"input_word_ids\"].shape}')\n",
    "print(f'Word Ids   : {text_preprocessed[\"input_word_ids\"][0, :12]}')\n",
    "print(f'Input Mask : {text_preprocessed[\"input_mask\"][0, :12]}')\n",
    "print(f'Type Ids   : {text_preprocessed[\"input_type_ids\"][0, :12]}')"
   ]
  },
  {
   "cell_type": "code",
   "execution_count": 11,
   "metadata": {},
   "outputs": [
    {
     "name": "stdout",
     "output_type": "stream",
     "text": [
      "Pooled Outputs Shape:(1, 768)\n",
      "Pooled Outputs Values:[ 0.56420034 -0.583381    0.8920307  -0.88340575 -0.5900779  -0.9748928\n",
      "  0.59733653 -0.56507444  0.6582606  -0.99990517  0.92246985  0.5789059 ]\n",
      "Sequence Outputs Shape:(1, 128, 768)\n",
      "Sequence Outputs Values:[[ 0.93791425  0.2850878  -0.3770112  ...  0.1940784  -1.122175\n",
      "   0.502108  ]\n",
      " [ 1.6732271  -1.2593404   0.98551434 ... -0.03488392  2.4402459\n",
      "  -1.415178  ]\n",
      " [ 1.5726161  -0.72766566 -0.6132505  ...  1.136941   -0.24407187\n",
      "  -0.20239015]\n",
      " ...\n",
      " [ 0.4637535   0.78065205 -0.00772761 ...  0.36924595  0.9916418\n",
      "  -1.1032659 ]\n",
      " [ 0.44642836  0.8588993   0.02044564 ...  0.40769723  1.0863211\n",
      "  -1.0217946 ]\n",
      " [ 0.46782282  0.8818836   0.02625225 ...  0.44045782  1.1098733\n",
      "  -1.016713  ]]\n"
     ]
    }
   ],
   "source": [
    "# let's look at the outputs from albert model\n",
    "\n",
    "URL = \"https://tfhub.dev/tensorflow/albert_en_base/3\"\n",
    "albert_model = hub.KerasLayer(URL, trainable=False)\n",
    "albert_results = albert_model(text_preprocessed)\n",
    "print(f'Pooled Outputs Shape:{albert_results[\"pooled_output\"].shape}')\n",
    "print(f'Pooled Outputs Values:{albert_results[\"pooled_output\"][0, :12]}')\n",
    "print(f'Sequence Outputs Shape:{albert_results[\"sequence_output\"].shape}')\n",
    "print(f'Sequence Outputs Values:{albert_results[\"sequence_output\"][0, :12]}')"
   ]
  },
  {
   "cell_type": "code",
   "execution_count": 12,
   "metadata": {},
   "outputs": [
    {
     "name": "stdout",
     "output_type": "stream",
     "text": [
      "Model: \"albert_model\"\n",
      "__________________________________________________________________________________________________\n",
      " Layer (type)                   Output Shape         Param #     Connected to                     \n",
      "==================================================================================================\n",
      " text (InputLayer)              [(None,)]            0           []                               \n",
      "                                                                                                  \n",
      " preprocessing (KerasLayer)     {'input_mask': (Non  0           ['text[0][0]']                   \n",
      "                                e, 128),                                                          \n",
      "                                 'input_type_ids':                                                \n",
      "                                (None, 128),                                                      \n",
      "                                 'input_word_ids':                                                \n",
      "                                (None, 128)}                                                      \n",
      "                                                                                                  \n",
      " ALBERT_encoder (KerasLayer)    {'encoder_outputs':  11683584    ['preprocessing[0][0]',          \n",
      "                                 [(None, 128, 768),               'preprocessing[0][1]',          \n",
      "                                 (None, 128, 768),                'preprocessing[0][2]']          \n",
      "                                 (None, 128, 768),                                                \n",
      "                                 (None, 128, 768),                                                \n",
      "                                 (None, 128, 768),                                                \n",
      "                                 (None, 128, 768),                                                \n",
      "                                 (None, 128, 768),                                                \n",
      "                                 (None, 128, 768),                                                \n",
      "                                 (None, 128, 768),                                                \n",
      "                                 (None, 128, 768),                                                \n",
      "                                 (None, 128, 768),                                                \n",
      "                                 (None, 128, 768)],                                               \n",
      "                                 'default': (None,                                                \n",
      "                                768),                                                             \n",
      "                                 'sequence_output':                                               \n",
      "                                 (None, 128, 768),                                                \n",
      "                                 'pooled_output': (                                               \n",
      "                                None, 768)}                                                       \n",
      "                                                                                                  \n",
      " classifier (Dense)             (None, 1)            769         ['ALBERT_encoder[0][13]']        \n",
      "                                                                                                  \n",
      "==================================================================================================\n",
      "Total params: 11,684,353\n",
      "Trainable params: 769\n",
      "Non-trainable params: 11,683,584\n",
      "__________________________________________________________________________________________________\n"
     ]
    }
   ],
   "source": [
    "def build_classifier_model():\n",
    "    text_input = tf.keras.layers.Input(shape=(), dtype=tf.string, name='text')\n",
    "    encoder_inputs = preprocessor(text_input)\n",
    "    encoder = hub.KerasLayer(URL, trainable=False, name='ALBERT_encoder')\n",
    "    outputs = encoder(encoder_inputs)\n",
    "    net = outputs['pooled_output']\n",
    "    dropout_layer = tf.keras.layers.Dropout(0.1, name='dropout')\n",
    "    # net = dropout_layer(net)\n",
    "    net = tf.keras.layers.Dense(1, activation=None, name='classifier')(net)\n",
    "    return tf.keras.Model(inputs=text_input, outputs=net, name='albert_model')\n",
    "\n",
    "build_classifier_model().summary()\n",
    "# pooled_output = outputs[\"pooled_output\"]      # [batch_size, 768].\n",
    "# sequence_output = outputs[\"sequence_output\"]  # [batch_size, seq_length, 768].\n",
    "# print(pooled_output)\n",
    "# print(sequence_output)"
   ]
  },
  {
   "cell_type": "code",
   "execution_count": 81,
   "metadata": {},
   "outputs": [
    {
     "name": "stdout",
     "output_type": "stream",
     "text": [
      "tf.Tensor([[0.80214405]], shape=(1, 1), dtype=float32)\n"
     ]
    }
   ],
   "source": [
    "model = build_classifier_model()\n",
    "albert_raw_result = model(tf.constant(text_test))\n",
    "print(tf.sigmoid(albert_raw_result))"
   ]
  },
  {
   "cell_type": "code",
   "execution_count": 82,
   "metadata": {},
   "outputs": [],
   "source": [
    "step = tf.Variable(0, trainable=False)\n",
    "schedule = tf.optimizers.schedules.PiecewiseConstantDecay(\n",
    "    [10000, 15000], [1e-1, 1e-2, 1e-3])\n",
    "# lr and wd can be a function or a tensor\n",
    "lr = 1e-3 * schedule(step)\n",
    "wd = lambda: 1e-4 * schedule(step)\n",
    "\n",
    "optimizer = AdamW(learning_rate=lr, weight_decay=wd)"
   ]
  },
  {
   "cell_type": "code",
   "execution_count": 83,
   "metadata": {},
   "outputs": [
    {
     "data": {
      "text/plain": [
       "[PhysicalDevice(name='/physical_device:GPU:0', device_type='GPU')]"
      ]
     },
     "execution_count": 83,
     "metadata": {},
     "output_type": "execute_result"
    }
   ],
   "source": [
    "tf.config.list_physical_devices('GPU')"
   ]
  },
  {
   "cell_type": "markdown",
   "metadata": {},
   "source": [
    "# Training"
   ]
  },
  {
   "cell_type": "code",
   "execution_count": 84,
   "metadata": {},
   "outputs": [
    {
     "name": "stdout",
     "output_type": "stream",
     "text": [
      "Epoch 1/6\n",
      "15000/15000 [==============================] - 3529s 235ms/step - loss: 0.6275 - binary_accuracy: 0.5943 - val_loss: 0.6081 - val_binary_accuracy: 0.6009\n",
      "Epoch 2/6\n",
      "15000/15000 [==============================] - 3461s 231ms/step - loss: 0.5972 - binary_accuracy: 0.6375 - val_loss: 0.5908 - val_binary_accuracy: 0.6333\n",
      "Epoch 3/6\n",
      "15000/15000 [==============================] - 3326s 222ms/step - loss: 0.5873 - binary_accuracy: 0.6502 - val_loss: 0.5833 - val_binary_accuracy: 0.6586\n",
      "Epoch 4/6\n",
      "15000/15000 [==============================] - 3321s 221ms/step - loss: 0.5822 - binary_accuracy: 0.6566 - val_loss: 0.5795 - val_binary_accuracy: 0.6672\n",
      "Epoch 5/6\n",
      "15000/15000 [==============================] - 3246s 216ms/step - loss: 0.5788 - binary_accuracy: 0.6605 - val_loss: 0.5794 - val_binary_accuracy: 0.6817\n",
      "Epoch 6/6\n",
      "15000/15000 [==============================] - 3319s 221ms/step - loss: 0.5767 - binary_accuracy: 0.6632 - val_loss: 0.5752 - val_binary_accuracy: 0.6720\n"
     ]
    }
   ],
   "source": [
    "epochs=6\n",
    "init_lr = 5e-2\n",
    "lr_schedule = tf.keras.callbacks.LearningRateScheduler(\n",
    "    lambda epoch: init_lr * 10**(epoch / 2))\n",
    "# optimizer = tf.keras.optimizers.Adam(lr=init_lr)\n",
    "metrics = tf.metrics.BinaryAccuracy()\n",
    "\n",
    "model_checkpoint = tf.keras.callbacks.ModelCheckpoint(\n",
    "    \"sentiment_model_v1.h5\", save_best_only=True, save_weights_only=True)\n",
    "\n",
    "early_stopping = tf.keras.callbacks.EarlyStopping(patience=2)\n",
    "\n",
    "\n",
    "model.compile(\n",
    "    optimizer = optimizer,\n",
    "    loss = tf.keras.losses.BinaryCrossentropy(from_logits=True),\n",
    "    metrics = metrics)\n",
    "\n",
    "\n",
    "history = model.fit(train_batches, validation_data=train_val, epochs=epochs, \n",
    "        callbacks=[model_checkpoint, early_stopping])\n",
    "\n",
    "# model.save(\"sentiment_model_v1.h5\")\n"
   ]
  },
  {
   "cell_type": "code",
   "execution_count": 89,
   "metadata": {},
   "outputs": [
    {
     "name": "stdout",
     "output_type": "stream",
     "text": [
      "dict_keys(['loss', 'binary_accuracy', 'val_loss', 'val_binary_accuracy'])\n"
     ]
    }
   ],
   "source": [
    "print(history.history.keys())"
   ]
  },
  {
   "cell_type": "markdown",
   "metadata": {},
   "source": [
    "# Plot Training and Validation Graphs"
   ]
  },
  {
   "cell_type": "code",
   "execution_count": 90,
   "metadata": {},
   "outputs": [
    {
     "data": {
      "image/png": "[encoded data removed]",
      "text/plain": [
       "<Figure size 800x800 with 2 Axes>"
      ]
     },
     "metadata": {},
     "output_type": "display_data"
    }
   ],
   "source": [
    "acc = history.history['binary_accuracy']\n",
    "val_acc = history.history['val_binary_accuracy']\n",
    "\n",
    "loss = history.history['loss']\n",
    "val_loss = history.history['val_loss']\n",
    "\n",
    "epochs_range = range(epochs)\n",
    "\n",
    "plt.figure(figsize=(8, 8))\n",
    "plt.subplot(1, 2, 1)\n",
    "plt.plot(epochs_range, acc, label='Training Accuracy')\n",
    "plt.plot(epochs_range, val_acc, label='Validation Accuracy')\n",
    "plt.legend(loc='lower right')\n",
    "plt.title('Training and Validation Accuracy')\n",
    "\n",
    "plt.subplot(1, 2, 2)\n",
    "plt.plot(epochs_range, loss, label='Training Loss')\n",
    "plt.plot(epochs_range, val_loss, label='Validation Loss')\n",
    "plt.legend(loc='upper right')\n",
    "plt.title('Training and Validation Loss')\n",
    "plt.show()"
   ]
  }
 ],
 "metadata": {
  "kernelspec": {
   "display_name": "Python 3.10.4 ('mlops-dev')",
   "language": "python",
   "name": "python3"
  },
  "language_info": {
   "codemirror_mode": {
    "name": "ipython",
    "version": 3
   },
   "file_extension": ".py",
   "mimetype": "text/x-python",
   "name": "python",
   "nbconvert_exporter": "python",
   "pygments_lexer": "ipython3",
   "version": "3.10.4"
  },
  "orig_nbformat": 4,
  "vscode": {
   "interpreter": {
    "hash": "491432b71267407106fe202c40c842fdd5910eb46324614520b83b7fa9472d1b"
   }
  }
 },
 "nbformat": 4,
 "nbformat_minor": 2
}
